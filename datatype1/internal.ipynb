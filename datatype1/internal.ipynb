{
 "cells": [
  {
   "cell_type": "code",
   "execution_count": 13,
   "metadata": {},
   "outputs": [
    {
     "name": "stdout",
     "output_type": "stream",
     "text": [
      "This is mylist Koushik\n",
      "This is duplist [1, 2, 3]\n"
     ]
    }
   ],
   "source": [
    "mylist = [1,2,3]\n",
    "duplist = mylist # Assigning reference of mylist to duplist\n",
    "mylist = 'Koushik' # Changing reference\n",
    "\n",
    "print(f'This is mylist {mylist}')\n",
    "print(f'This is duplist {duplist}')"
   ]
  },
  {
   "cell_type": "code",
   "execution_count": 6,
   "metadata": {},
   "outputs": [
    {
     "name": "stdout",
     "output_type": "stream",
     "text": [
      "This is mylist [69, 2, 3]\n",
      "This is duplist [1, 2, 3]\n"
     ]
    }
   ],
   "source": [
    "mylist = [1,2,3]\n",
    "mylist[0] = 69\n",
    "\n",
    "print(f'This is mylist {mylist}')\n",
    "print(f'This is duplist {duplist}')"
   ]
  },
  {
   "cell_type": "code",
   "execution_count": 12,
   "metadata": {},
   "outputs": [
    {
     "name": "stdout",
     "output_type": "stream",
     "text": [
      "This is list 1 [1, 2, 3]\n",
      "This is list 2 [1, 2, 3]\n",
      "--------------------------\n",
      "After changing 0th element of list 1 [56, 2, 3]\n",
      "List 2 [56, 2, 3] printing same value because list 2 have reference of list 1\n"
     ]
    }
   ],
   "source": [
    "list1 = [1,2,3]\n",
    "list2 = list1 # Assigning reference of list1 to list2\n",
    "\n",
    "print(f'This is list 1 {list1}')\n",
    "print(f'This is list 2 {list2}')\n",
    "print('--------------------------')\n",
    "\n",
    "list1[0] = 56\n",
    "\n",
    "print(f'After changing 0th element of list 1 {list1}')\n",
    "print(f'List 2 {list2} printing same value because list 2 have reference of list 1')"
   ]
  },
  {
   "cell_type": "code",
   "execution_count": 17,
   "metadata": {},
   "outputs": [
    {
     "name": "stdout",
     "output_type": "stream",
     "text": [
      "This is L1 [1, 2, 3]\n",
      "This is L2 [1, 2, 3]\n",
      "----------------------\n",
      "After changing L1 [66, 2, 3]\n",
      "L2 value remains same as previous [1, 2, 3]\n"
     ]
    }
   ],
   "source": [
    "l1 = [1,2,3]\n",
    "l2 = l1[:] # Copying\n",
    "\n",
    "print(f'This is L1 {l1}')\n",
    "print(f'This is L2 {l2}')\n",
    "print('----------------------')\n",
    "\n",
    "l1[0] = 66\n",
    "\n",
    "print(f'After changing L1 {l1}')\n",
    "print(f'L2 value remains same as previous {l2}')"
   ]
  },
  {
   "cell_type": "code",
   "execution_count": null,
   "metadata": {},
   "outputs": [
    {
     "name": "stdout",
     "output_type": "stream",
     "text": [
      "List 1 [1, 2, 3]\n",
      "List 2 [1, 2, 3]\n",
      "(True) this give us true because List 1 & List 2 have same reference\n"
     ]
    }
   ],
   "source": [
    "ls1 = [1,2,3]\n",
    "ls2 = ls1 # Assigning reference of ls1 to ls2\n",
    "\n",
    "print(f'List 1 {ls1}')\n",
    "print(f'List 2 {ls2}')\n",
    "\n",
    "print(f'({ls1 is ls2}) this give us true because List 1 & List 2 have same reference') \n",
    "\n",
    "if(ls1==ls2): # list 1 is equal to list 2\n",
    "    print(f'List 1 is equal as List 2')\n",
    "else:\n",
    "    print(f'Not equal')\n"
   ]
  },
  {
   "cell_type": "code",
   "execution_count": null,
   "metadata": {},
   "outputs": [
    {
     "name": "stdout",
     "output_type": "stream",
     "text": [
      "List 1 [1, 2, 3]\n",
      "List 2 [1, 2, 3]\n",
      "(False) because List 1 & List 2 have diffrent reference\n"
     ]
    }
   ],
   "source": [
    "ls1 = [1,2,3]\n",
    "ls2 = [1,2,3]\n",
    "\n",
    "print(f'List 1 {ls1}')\n",
    "print(f'List 2 {ls2}')\n",
    "\n",
    "print(f'({ls1 is ls2}) because List 1 & List 2 have diffrent reference') \n",
    "\n",
    "if(ls1==ls2): # list 1 is equal to list 2 but their memory reference are diffrent\n",
    "    print(f'List 1 is equal as List 2')\n",
    "else:\n",
    "    print(f'Not equal')"
   ]
  }
 ],
 "metadata": {
  "kernelspec": {
   "display_name": "Python 3",
   "language": "python",
   "name": "python3"
  },
  "language_info": {
   "codemirror_mode": {
    "name": "ipython",
    "version": 3
   },
   "file_extension": ".py",
   "mimetype": "text/x-python",
   "name": "python",
   "nbconvert_exporter": "python",
   "pygments_lexer": "ipython3",
   "version": "3.12.1"
  }
 },
 "nbformat": 4,
 "nbformat_minor": 2
}
