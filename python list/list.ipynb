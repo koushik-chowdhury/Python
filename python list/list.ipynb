{
 "cells": [
  {
   "cell_type": "code",
   "execution_count": 58,
   "metadata": {},
   "outputs": [
    {
     "name": "stdout",
     "output_type": "stream",
     "text": [
      "['Black', 'Green', 'Oolong', 'White']\n"
     ]
    }
   ],
   "source": [
    "tea = [\"Black\",\"Green\",\"Oolong\",\"White\"]\n",
    "\n",
    "print(tea)"
   ]
  },
  {
   "cell_type": "code",
   "execution_count": 59,
   "metadata": {},
   "outputs": [
    {
     "name": "stdout",
     "output_type": "stream",
     "text": [
      "Black\n",
      "White\n",
      "['Green', 'Oolong', 'White']\n",
      "['Black', 'Oolong']\n"
     ]
    }
   ],
   "source": [
    "print(tea[0])\n",
    "print(tea[-1])\n",
    "print(tea[1:])\n",
    "print(tea[::2])"
   ]
  },
  {
   "cell_type": "code",
   "execution_count": 60,
   "metadata": {},
   "outputs": [
    {
     "name": "stdout",
     "output_type": "stream",
     "text": [
      "['Black', 'Green', 'Oolong', 'Herbal']\n"
     ]
    }
   ],
   "source": [
    "tea[3] = \"Herbal\"\n",
    "\n",
    "print(tea)"
   ]
  },
  {
   "cell_type": "code",
   "execution_count": 61,
   "metadata": {},
   "outputs": [
    {
     "name": "stdout",
     "output_type": "stream",
     "text": [
      "['Black', 'Masala', 'Ginger', 'Herbal']\n"
     ]
    }
   ],
   "source": [
    "tea[1:3] = [\"Masala\", \"Ginger\"]\n",
    "print(tea)"
   ]
  },
  {
   "cell_type": "code",
   "execution_count": 62,
   "metadata": {},
   "outputs": [
    {
     "name": "stdout",
     "output_type": "stream",
     "text": [
      "[]\n",
      "['Black', 'test', 'test', 'Masala', 'Ginger', 'Herbal']\n"
     ]
    }
   ],
   "source": [
    "print(tea[1:1]) \n",
    "tea[1:1] = [\"test\", \"test\"]\n",
    "print(tea)"
   ]
  },
  {
   "cell_type": "code",
   "execution_count": 63,
   "metadata": {},
   "outputs": [
    {
     "name": "stdout",
     "output_type": "stream",
     "text": [
      "['Black', 'Masala', 'Ginger', 'Herbal']\n"
     ]
    }
   ],
   "source": [
    "tea[1:3] = []\n",
    "print(tea)"
   ]
  },
  {
   "cell_type": "code",
   "execution_count": 64,
   "metadata": {},
   "outputs": [
    {
     "name": "stdout",
     "output_type": "stream",
     "text": [
      "Black\n",
      "Masala\n",
      "Ginger\n",
      "Herbal\n"
     ]
    }
   ],
   "source": [
    "#loop\n",
    "for i in tea:\n",
    "    print(i)"
   ]
  },
  {
   "cell_type": "code",
   "execution_count": 65,
   "metadata": {},
   "outputs": [],
   "source": [
    "if \"Oolong\" in tea:\n",
    "    print(\"I have\")"
   ]
  },
  {
   "cell_type": "code",
   "execution_count": 66,
   "metadata": {},
   "outputs": [],
   "source": [
    "# Pending\n",
    "# remove & pop\n",
    "# append & insert"
   ]
  },
  {
   "cell_type": "code",
   "execution_count": 67,
   "metadata": {},
   "outputs": [
    {
     "data": {
      "text/plain": [
       "['Black', 'Masala', 'Ginger', 'Herbal', 'Oolong']"
      ]
     },
     "execution_count": 67,
     "metadata": {},
     "output_type": "execute_result"
    }
   ],
   "source": [
    "tea.append(\"Oolong\")\n",
    "tea"
   ]
  },
  {
   "cell_type": "code",
   "execution_count": 68,
   "metadata": {},
   "outputs": [
    {
     "name": "stdout",
     "output_type": "stream",
     "text": [
      "I have Oolong tea\n"
     ]
    }
   ],
   "source": [
    "if \"Oolong\" in tea:\n",
    "    print(\"I have Oolong tea\")"
   ]
  },
  {
   "cell_type": "code",
   "execution_count": 69,
   "metadata": {},
   "outputs": [
    {
     "name": "stdout",
     "output_type": "stream",
     "text": [
      "['Black', 'Masala', 'Ginger', 'Herbal']\n"
     ]
    }
   ],
   "source": [
    "tea.pop()\n",
    "print(tea)"
   ]
  },
  {
   "cell_type": "code",
   "execution_count": 70,
   "metadata": {},
   "outputs": [],
   "source": [
    "tea.remove(\"Masala\")"
   ]
  },
  {
   "cell_type": "code",
   "execution_count": 71,
   "metadata": {},
   "outputs": [
    {
     "name": "stdout",
     "output_type": "stream",
     "text": [
      "['Black', 'Ginger', 'Herbal']\n",
      "['Black', 'Masala', 'Ginger', 'Herbal']\n"
     ]
    }
   ],
   "source": [
    "print(tea)\n",
    "\n",
    "tea.insert(1,\"Masala\")\n",
    "print(tea) "
   ]
  },
  {
   "cell_type": "code",
   "execution_count": 72,
   "metadata": {},
   "outputs": [
    {
     "data": {
      "text/plain": [
       "['Black', 'Masala', 'Ginger', 'Herbal', 'black coffie']"
      ]
     },
     "execution_count": 72,
     "metadata": {},
     "output_type": "execute_result"
    }
   ],
   "source": [
    "coffie = [\"black coffie\"]\n",
    "\n",
    "tea + coffie # List concatenate"
   ]
  },
  {
   "cell_type": "code",
   "execution_count": 77,
   "metadata": {},
   "outputs": [
    {
     "name": "stdout",
     "output_type": "stream",
     "text": [
      "[0, 1, 4, 9, 16, 25, 36, 49, 64, 81]\n"
     ]
    }
   ],
   "source": [
    "# List comprehensive\n",
    "\n",
    "squared_num = [x**2 for x in range(10)]\n",
    "print(squared_num)"
   ]
  }
 ],
 "metadata": {
  "kernelspec": {
   "display_name": "Python 3",
   "language": "python",
   "name": "python3"
  },
  "language_info": {
   "codemirror_mode": {
    "name": "ipython",
    "version": 3
   },
   "file_extension": ".py",
   "mimetype": "text/x-python",
   "name": "python",
   "nbconvert_exporter": "python",
   "pygments_lexer": "ipython3",
   "version": "3.12.1"
  }
 },
 "nbformat": 4,
 "nbformat_minor": 2
}
