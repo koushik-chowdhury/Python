{
 "cells": [
  {
   "cell_type": "code",
   "execution_count": 18,
   "metadata": {},
   "outputs": [
    {
     "name": "stdout",
     "output_type": "stream",
     "text": [
      "['Black', 'Green', 'Oolong', 'White']\n"
     ]
    }
   ],
   "source": [
    "tea = [\"Black\",\"Green\",\"Oolong\",\"White\"]\n",
    "\n",
    "print(tea)"
   ]
  },
  {
   "cell_type": "code",
   "execution_count": 19,
   "metadata": {},
   "outputs": [
    {
     "name": "stdout",
     "output_type": "stream",
     "text": [
      "Black\n",
      "White\n",
      "['Green', 'Oolong', 'White']\n",
      "['Black', 'Oolong']\n"
     ]
    }
   ],
   "source": [
    "print(tea[0])\n",
    "print(tea[-1])\n",
    "print(tea[1:])\n",
    "print(tea[::2])"
   ]
  },
  {
   "cell_type": "code",
   "execution_count": 20,
   "metadata": {},
   "outputs": [
    {
     "name": "stdout",
     "output_type": "stream",
     "text": [
      "['Black', 'Green', 'Oolong', 'Herbal']\n"
     ]
    }
   ],
   "source": [
    "tea[3] = \"Herbal\"\n",
    "\n",
    "print(tea)"
   ]
  },
  {
   "cell_type": "code",
   "execution_count": 21,
   "metadata": {},
   "outputs": [
    {
     "name": "stdout",
     "output_type": "stream",
     "text": [
      "['Black', 'Green', 'Oolong', 'Herbal']\n"
     ]
    }
   ],
   "source": []
  }
 ],
 "metadata": {
  "kernelspec": {
   "display_name": "Python 3",
   "language": "python",
   "name": "python3"
  },
  "language_info": {
   "codemirror_mode": {
    "name": "ipython",
    "version": 3
   },
   "file_extension": ".py",
   "mimetype": "text/x-python",
   "name": "python",
   "nbconvert_exporter": "python",
   "pygments_lexer": "ipython3",
   "version": "3.12.1"
  }
 },
 "nbformat": 4,
 "nbformat_minor": 2
}
