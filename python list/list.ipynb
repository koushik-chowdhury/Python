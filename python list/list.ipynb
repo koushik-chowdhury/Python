{
 "cells": [
  {
   "cell_type": "code",
   "execution_count": 48,
   "metadata": {},
   "outputs": [
    {
     "name": "stdout",
     "output_type": "stream",
     "text": [
      "['Black', 'Green', 'Oolong', 'White']\n"
     ]
    }
   ],
   "source": [
    "tea = [\"Black\",\"Green\",\"Oolong\",\"White\"]\n",
    "\n",
    "print(tea)"
   ]
  },
  {
   "cell_type": "code",
   "execution_count": 49,
   "metadata": {},
   "outputs": [
    {
     "name": "stdout",
     "output_type": "stream",
     "text": [
      "Black\n",
      "White\n",
      "['Green', 'Oolong', 'White']\n",
      "['Black', 'Oolong']\n"
     ]
    }
   ],
   "source": [
    "print(tea[0])\n",
    "print(tea[-1])\n",
    "print(tea[1:])\n",
    "print(tea[::2])"
   ]
  },
  {
   "cell_type": "code",
   "execution_count": 50,
   "metadata": {},
   "outputs": [
    {
     "name": "stdout",
     "output_type": "stream",
     "text": [
      "['Black', 'Green', 'Oolong', 'Herbal']\n"
     ]
    }
   ],
   "source": [
    "tea[3] = \"Herbal\"\n",
    "\n",
    "print(tea)"
   ]
  },
  {
   "cell_type": "code",
   "execution_count": 51,
   "metadata": {},
   "outputs": [
    {
     "name": "stdout",
     "output_type": "stream",
     "text": [
      "['Black', 'Masala', 'Ginger', 'Herbal']\n"
     ]
    }
   ],
   "source": [
    "tea[1:3] = [\"Masala\", \"Ginger\"]\n",
    "print(tea)"
   ]
  },
  {
   "cell_type": "code",
   "execution_count": 52,
   "metadata": {},
   "outputs": [
    {
     "name": "stdout",
     "output_type": "stream",
     "text": [
      "[]\n",
      "['Black', 'test', 'test', 'Masala', 'Ginger', 'Herbal']\n"
     ]
    }
   ],
   "source": [
    "print(tea[1:1]) \n",
    "tea[1:1] = [\"test\", \"test\"]\n",
    "print(tea)"
   ]
  },
  {
   "cell_type": "code",
   "execution_count": 53,
   "metadata": {},
   "outputs": [
    {
     "name": "stdout",
     "output_type": "stream",
     "text": [
      "['Black', 'Masala', 'Ginger', 'Herbal']\n"
     ]
    }
   ],
   "source": [
    "tea[1:3] = []\n",
    "print(tea)"
   ]
  },
  {
   "cell_type": "code",
   "execution_count": 54,
   "metadata": {},
   "outputs": [
    {
     "name": "stdout",
     "output_type": "stream",
     "text": [
      "Black\n",
      "Masala\n",
      "Ginger\n",
      "Herbal\n"
     ]
    }
   ],
   "source": [
    "#loop\n",
    "for tea in tea:\n",
    "    print(tea)"
   ]
  },
  {
   "cell_type": "code",
   "execution_count": 55,
   "metadata": {},
   "outputs": [],
   "source": [
    "if \"Oolong\" in tea:\n",
    "    print(\"I have\")"
   ]
  }
 ],
 "metadata": {
  "kernelspec": {
   "display_name": "Python 3",
   "language": "python",
   "name": "python3"
  },
  "language_info": {
   "codemirror_mode": {
    "name": "ipython",
    "version": 3
   },
   "file_extension": ".py",
   "mimetype": "text/x-python",
   "name": "python",
   "nbconvert_exporter": "python",
   "pygments_lexer": "ipython3",
   "version": "3.12.1"
  }
 },
 "nbformat": 4,
 "nbformat_minor": 2
}
